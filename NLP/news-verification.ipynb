{
 "cells": [
  {
   "cell_type": "code",
   "execution_count": 1,
   "metadata": {},
   "outputs": [],
   "source": [
    "import pandas as pd\n",
    "import numpy as np\n",
    "import matplotlib.pyplot as plt\n",
    "import seaborn as sns\n",
    "\n",
    "%matplotlib inline"
   ]
  },
  {
   "cell_type": "code",
   "execution_count": 2,
   "metadata": {},
   "outputs": [],
   "source": [
    "fake_news_raw = pd.read_csv('./Fake.csv')\n",
    "real_news_raw = pd.read_csv('./True.csv')"
   ]
  },
  {
   "cell_type": "code",
   "execution_count": 3,
   "metadata": {},
   "outputs": [
    {
     "data": {
      "text/html": [
       "<div>\n",
       "<style scoped>\n",
       "    .dataframe tbody tr th:only-of-type {\n",
       "        vertical-align: middle;\n",
       "    }\n",
       "\n",
       "    .dataframe tbody tr th {\n",
       "        vertical-align: top;\n",
       "    }\n",
       "\n",
       "    .dataframe thead th {\n",
       "        text-align: right;\n",
       "    }\n",
       "</style>\n",
       "<table border=\"1\" class=\"dataframe\">\n",
       "  <thead>\n",
       "    <tr style=\"text-align: right;\">\n",
       "      <th></th>\n",
       "      <th>title</th>\n",
       "      <th>text</th>\n",
       "      <th>subject</th>\n",
       "      <th>date</th>\n",
       "    </tr>\n",
       "  </thead>\n",
       "  <tbody>\n",
       "    <tr>\n",
       "      <th>0</th>\n",
       "      <td>As U.S. budget fight looms, Republicans flip t...</td>\n",
       "      <td>WASHINGTON (Reuters) - The head of a conservat...</td>\n",
       "      <td>politicsNews</td>\n",
       "      <td>December 31, 2017</td>\n",
       "    </tr>\n",
       "    <tr>\n",
       "      <th>1</th>\n",
       "      <td>U.S. military to accept transgender recruits o...</td>\n",
       "      <td>WASHINGTON (Reuters) - Transgender people will...</td>\n",
       "      <td>politicsNews</td>\n",
       "      <td>December 29, 2017</td>\n",
       "    </tr>\n",
       "    <tr>\n",
       "      <th>2</th>\n",
       "      <td>Senior U.S. Republican senator: 'Let Mr. Muell...</td>\n",
       "      <td>WASHINGTON (Reuters) - The special counsel inv...</td>\n",
       "      <td>politicsNews</td>\n",
       "      <td>December 31, 2017</td>\n",
       "    </tr>\n",
       "    <tr>\n",
       "      <th>3</th>\n",
       "      <td>FBI Russia probe helped by Australian diplomat...</td>\n",
       "      <td>WASHINGTON (Reuters) - Trump campaign adviser ...</td>\n",
       "      <td>politicsNews</td>\n",
       "      <td>December 30, 2017</td>\n",
       "    </tr>\n",
       "    <tr>\n",
       "      <th>4</th>\n",
       "      <td>Trump wants Postal Service to charge 'much mor...</td>\n",
       "      <td>SEATTLE/WASHINGTON (Reuters) - President Donal...</td>\n",
       "      <td>politicsNews</td>\n",
       "      <td>December 29, 2017</td>\n",
       "    </tr>\n",
       "    <tr>\n",
       "      <th>...</th>\n",
       "      <td>...</td>\n",
       "      <td>...</td>\n",
       "      <td>...</td>\n",
       "      <td>...</td>\n",
       "    </tr>\n",
       "    <tr>\n",
       "      <th>21412</th>\n",
       "      <td>'Fully committed' NATO backs new U.S. approach...</td>\n",
       "      <td>BRUSSELS (Reuters) - NATO allies on Tuesday we...</td>\n",
       "      <td>worldnews</td>\n",
       "      <td>August 22, 2017</td>\n",
       "    </tr>\n",
       "    <tr>\n",
       "      <th>21413</th>\n",
       "      <td>LexisNexis withdrew two products from Chinese ...</td>\n",
       "      <td>LONDON (Reuters) - LexisNexis, a provider of l...</td>\n",
       "      <td>worldnews</td>\n",
       "      <td>August 22, 2017</td>\n",
       "    </tr>\n",
       "    <tr>\n",
       "      <th>21414</th>\n",
       "      <td>Minsk cultural hub becomes haven from authorities</td>\n",
       "      <td>MINSK (Reuters) - In the shadow of disused Sov...</td>\n",
       "      <td>worldnews</td>\n",
       "      <td>August 22, 2017</td>\n",
       "    </tr>\n",
       "    <tr>\n",
       "      <th>21415</th>\n",
       "      <td>Vatican upbeat on possibility of Pope Francis ...</td>\n",
       "      <td>MOSCOW (Reuters) - Vatican Secretary of State ...</td>\n",
       "      <td>worldnews</td>\n",
       "      <td>August 22, 2017</td>\n",
       "    </tr>\n",
       "    <tr>\n",
       "      <th>21416</th>\n",
       "      <td>Indonesia to buy $1.14 billion worth of Russia...</td>\n",
       "      <td>JAKARTA (Reuters) - Indonesia will buy 11 Sukh...</td>\n",
       "      <td>worldnews</td>\n",
       "      <td>August 22, 2017</td>\n",
       "    </tr>\n",
       "  </tbody>\n",
       "</table>\n",
       "<p>21417 rows × 4 columns</p>\n",
       "</div>"
      ],
      "text/plain": [
       "                                                   title  \\\n",
       "0      As U.S. budget fight looms, Republicans flip t...   \n",
       "1      U.S. military to accept transgender recruits o...   \n",
       "2      Senior U.S. Republican senator: 'Let Mr. Muell...   \n",
       "3      FBI Russia probe helped by Australian diplomat...   \n",
       "4      Trump wants Postal Service to charge 'much mor...   \n",
       "...                                                  ...   \n",
       "21412  'Fully committed' NATO backs new U.S. approach...   \n",
       "21413  LexisNexis withdrew two products from Chinese ...   \n",
       "21414  Minsk cultural hub becomes haven from authorities   \n",
       "21415  Vatican upbeat on possibility of Pope Francis ...   \n",
       "21416  Indonesia to buy $1.14 billion worth of Russia...   \n",
       "\n",
       "                                                    text       subject  \\\n",
       "0      WASHINGTON (Reuters) - The head of a conservat...  politicsNews   \n",
       "1      WASHINGTON (Reuters) - Transgender people will...  politicsNews   \n",
       "2      WASHINGTON (Reuters) - The special counsel inv...  politicsNews   \n",
       "3      WASHINGTON (Reuters) - Trump campaign adviser ...  politicsNews   \n",
       "4      SEATTLE/WASHINGTON (Reuters) - President Donal...  politicsNews   \n",
       "...                                                  ...           ...   \n",
       "21412  BRUSSELS (Reuters) - NATO allies on Tuesday we...     worldnews   \n",
       "21413  LONDON (Reuters) - LexisNexis, a provider of l...     worldnews   \n",
       "21414  MINSK (Reuters) - In the shadow of disused Sov...     worldnews   \n",
       "21415  MOSCOW (Reuters) - Vatican Secretary of State ...     worldnews   \n",
       "21416  JAKARTA (Reuters) - Indonesia will buy 11 Sukh...     worldnews   \n",
       "\n",
       "                     date  \n",
       "0      December 31, 2017   \n",
       "1      December 29, 2017   \n",
       "2      December 31, 2017   \n",
       "3      December 30, 2017   \n",
       "4      December 29, 2017   \n",
       "...                   ...  \n",
       "21412    August 22, 2017   \n",
       "21413    August 22, 2017   \n",
       "21414    August 22, 2017   \n",
       "21415    August 22, 2017   \n",
       "21416    August 22, 2017   \n",
       "\n",
       "[21417 rows x 4 columns]"
      ]
     },
     "execution_count": 3,
     "metadata": {},
     "output_type": "execute_result"
    }
   ],
   "source": [
    "real_news_raw"
   ]
  },
  {
   "cell_type": "code",
   "execution_count": 4,
   "metadata": {},
   "outputs": [
    {
     "data": {
      "text/plain": [
       "'In America, we have been having a conversation about police brutality against black Americans. Despite the countless black people murdered unjustly by police, there is usually no justice. Sandra Bland, Philando Castile, Keith Lamont Scott, Michael Brown, Freddie Gray too many to mention here, really. All of those people were senselessly murdered by cops who chose to be their judges, juries, and executioners, and they did so with impunity and without consequence. However, there is hope, and it is coming out of South Carolina, of all places.North Charleston police officer Michael Slager murdered Walter Scott, a black man who was fleeing after a routine traffic stop in cold blood in 2015. He would have gotten away with it, too, had it not been for a citizen who was brave enough to tape the murder. The tape showed that Slager had lied about his life being in danger, and it showed him cuffing Scott s lifeless body, and then planting a taser as  evidence.  Here is the news report of that damning tape:Thanks to that tape, Slager was arrested and charged with murder. Now, fast forward two years later, and Slager has been convicted of murder. U.S. District Judge David Norton decided to throw the book at Slager, and sentenced the murdering ex-cop to 19-24 years in prison.The original case ended in a mistrial, but the state of South Carolina seemed determined to get justice for Walter Scott, and that happened on December 7, 2017.  Of course, Slager s family begged for mercy from the judge, but luckily those calls were ignored. Michael Slager is a murderer, and he deserves the sentence he got.So many times, these cases end with the murderous cops back on the force, out in the streets after what amounts to nothing more than a paid vacation, free to murder another black person at will again. Thankfully, for once, the system worked as it should. For once, I am proud to be a South Carolinian. Hopefully this sets a precedent, and helps us turn a corner toward the arc of justice.Watch the video of the remarks of the Scott family below: Featured image via Grace Beahm-Pool/Getty Images'"
      ]
     },
     "execution_count": 4,
     "metadata": {},
     "output_type": "execute_result"
    }
   ],
   "source": [
    "fake_news_raw[\"text\"].iloc[30]"
   ]
  },
  {
   "cell_type": "code",
   "execution_count": 5,
   "metadata": {},
   "outputs": [],
   "source": [
    "real_news_raw[\"label\"] = \"true\"\n",
    "fake_news_raw[\"label\"] = \"false\""
   ]
  },
  {
   "cell_type": "code",
   "execution_count": 6,
   "metadata": {},
   "outputs": [
    {
     "data": {
      "text/html": [
       "<div>\n",
       "<style scoped>\n",
       "    .dataframe tbody tr th:only-of-type {\n",
       "        vertical-align: middle;\n",
       "    }\n",
       "\n",
       "    .dataframe tbody tr th {\n",
       "        vertical-align: top;\n",
       "    }\n",
       "\n",
       "    .dataframe thead th {\n",
       "        text-align: right;\n",
       "    }\n",
       "</style>\n",
       "<table border=\"1\" class=\"dataframe\">\n",
       "  <thead>\n",
       "    <tr style=\"text-align: right;\">\n",
       "      <th></th>\n",
       "      <th>title</th>\n",
       "      <th>text</th>\n",
       "      <th>subject</th>\n",
       "      <th>date</th>\n",
       "      <th>label</th>\n",
       "    </tr>\n",
       "  </thead>\n",
       "  <tbody>\n",
       "    <tr>\n",
       "      <th>0</th>\n",
       "      <td>As U.S. budget fight looms, Republicans flip t...</td>\n",
       "      <td>WASHINGTON (Reuters) - The head of a conservat...</td>\n",
       "      <td>politicsNews</td>\n",
       "      <td>December 31, 2017</td>\n",
       "      <td>news</td>\n",
       "    </tr>\n",
       "    <tr>\n",
       "      <th>1</th>\n",
       "      <td>U.S. military to accept transgender recruits o...</td>\n",
       "      <td>WASHINGTON (Reuters) - Transgender people will...</td>\n",
       "      <td>politicsNews</td>\n",
       "      <td>December 29, 2017</td>\n",
       "      <td>news</td>\n",
       "    </tr>\n",
       "    <tr>\n",
       "      <th>2</th>\n",
       "      <td>Senior U.S. Republican senator: 'Let Mr. Muell...</td>\n",
       "      <td>WASHINGTON (Reuters) - The special counsel inv...</td>\n",
       "      <td>politicsNews</td>\n",
       "      <td>December 31, 2017</td>\n",
       "      <td>news</td>\n",
       "    </tr>\n",
       "    <tr>\n",
       "      <th>3</th>\n",
       "      <td>FBI Russia probe helped by Australian diplomat...</td>\n",
       "      <td>WASHINGTON (Reuters) - Trump campaign adviser ...</td>\n",
       "      <td>politicsNews</td>\n",
       "      <td>December 30, 2017</td>\n",
       "      <td>news</td>\n",
       "    </tr>\n",
       "    <tr>\n",
       "      <th>4</th>\n",
       "      <td>Trump wants Postal Service to charge 'much mor...</td>\n",
       "      <td>SEATTLE/WASHINGTON (Reuters) - President Donal...</td>\n",
       "      <td>politicsNews</td>\n",
       "      <td>December 29, 2017</td>\n",
       "      <td>news</td>\n",
       "    </tr>\n",
       "    <tr>\n",
       "      <th>...</th>\n",
       "      <td>...</td>\n",
       "      <td>...</td>\n",
       "      <td>...</td>\n",
       "      <td>...</td>\n",
       "      <td>...</td>\n",
       "    </tr>\n",
       "    <tr>\n",
       "      <th>23476</th>\n",
       "      <td>McPain: John McCain Furious That Iran Treated ...</td>\n",
       "      <td>21st Century Wire says As 21WIRE reported earl...</td>\n",
       "      <td>Middle-east</td>\n",
       "      <td>January 16, 2016</td>\n",
       "      <td>not_news</td>\n",
       "    </tr>\n",
       "    <tr>\n",
       "      <th>23477</th>\n",
       "      <td>JUSTICE? Yahoo Settles E-mail Privacy Class-ac...</td>\n",
       "      <td>21st Century Wire says It s a familiar theme. ...</td>\n",
       "      <td>Middle-east</td>\n",
       "      <td>January 16, 2016</td>\n",
       "      <td>not_news</td>\n",
       "    </tr>\n",
       "    <tr>\n",
       "      <th>23478</th>\n",
       "      <td>Sunnistan: US and Allied ‘Safe Zone’ Plan to T...</td>\n",
       "      <td>Patrick Henningsen  21st Century WireRemember ...</td>\n",
       "      <td>Middle-east</td>\n",
       "      <td>January 15, 2016</td>\n",
       "      <td>not_news</td>\n",
       "    </tr>\n",
       "    <tr>\n",
       "      <th>23479</th>\n",
       "      <td>How to Blow $700 Million: Al Jazeera America F...</td>\n",
       "      <td>21st Century Wire says Al Jazeera America will...</td>\n",
       "      <td>Middle-east</td>\n",
       "      <td>January 14, 2016</td>\n",
       "      <td>not_news</td>\n",
       "    </tr>\n",
       "    <tr>\n",
       "      <th>23480</th>\n",
       "      <td>10 U.S. Navy Sailors Held by Iranian Military ...</td>\n",
       "      <td>21st Century Wire says As 21WIRE predicted in ...</td>\n",
       "      <td>Middle-east</td>\n",
       "      <td>January 12, 2016</td>\n",
       "      <td>not_news</td>\n",
       "    </tr>\n",
       "  </tbody>\n",
       "</table>\n",
       "<p>44898 rows × 5 columns</p>\n",
       "</div>"
      ],
      "text/plain": [
       "                                                   title  \\\n",
       "0      As U.S. budget fight looms, Republicans flip t...   \n",
       "1      U.S. military to accept transgender recruits o...   \n",
       "2      Senior U.S. Republican senator: 'Let Mr. Muell...   \n",
       "3      FBI Russia probe helped by Australian diplomat...   \n",
       "4      Trump wants Postal Service to charge 'much mor...   \n",
       "...                                                  ...   \n",
       "23476  McPain: John McCain Furious That Iran Treated ...   \n",
       "23477  JUSTICE? Yahoo Settles E-mail Privacy Class-ac...   \n",
       "23478  Sunnistan: US and Allied ‘Safe Zone’ Plan to T...   \n",
       "23479  How to Blow $700 Million: Al Jazeera America F...   \n",
       "23480  10 U.S. Navy Sailors Held by Iranian Military ...   \n",
       "\n",
       "                                                    text       subject  \\\n",
       "0      WASHINGTON (Reuters) - The head of a conservat...  politicsNews   \n",
       "1      WASHINGTON (Reuters) - Transgender people will...  politicsNews   \n",
       "2      WASHINGTON (Reuters) - The special counsel inv...  politicsNews   \n",
       "3      WASHINGTON (Reuters) - Trump campaign adviser ...  politicsNews   \n",
       "4      SEATTLE/WASHINGTON (Reuters) - President Donal...  politicsNews   \n",
       "...                                                  ...           ...   \n",
       "23476  21st Century Wire says As 21WIRE reported earl...   Middle-east   \n",
       "23477  21st Century Wire says It s a familiar theme. ...   Middle-east   \n",
       "23478  Patrick Henningsen  21st Century WireRemember ...   Middle-east   \n",
       "23479  21st Century Wire says Al Jazeera America will...   Middle-east   \n",
       "23480  21st Century Wire says As 21WIRE predicted in ...   Middle-east   \n",
       "\n",
       "                     date     label  \n",
       "0      December 31, 2017       news  \n",
       "1      December 29, 2017       news  \n",
       "2      December 31, 2017       news  \n",
       "3      December 30, 2017       news  \n",
       "4      December 29, 2017       news  \n",
       "...                   ...       ...  \n",
       "23476    January 16, 2016  not_news  \n",
       "23477    January 16, 2016  not_news  \n",
       "23478    January 15, 2016  not_news  \n",
       "23479    January 14, 2016  not_news  \n",
       "23480    January 12, 2016  not_news  \n",
       "\n",
       "[44898 rows x 5 columns]"
      ]
     },
     "execution_count": 6,
     "metadata": {},
     "output_type": "execute_result"
    }
   ],
   "source": [
    "all_news = pd.concat([real_news_raw, fake_news_raw])\n",
    "all_news"
   ]
  },
  {
   "cell_type": "code",
   "execution_count": 7,
   "metadata": {},
   "outputs": [
    {
     "data": {
      "text/html": [
       "<div>\n",
       "<style scoped>\n",
       "    .dataframe tbody tr th:only-of-type {\n",
       "        vertical-align: middle;\n",
       "    }\n",
       "\n",
       "    .dataframe tbody tr th {\n",
       "        vertical-align: top;\n",
       "    }\n",
       "\n",
       "    .dataframe thead th {\n",
       "        text-align: right;\n",
       "    }\n",
       "</style>\n",
       "<table border=\"1\" class=\"dataframe\">\n",
       "  <thead>\n",
       "    <tr style=\"text-align: right;\">\n",
       "      <th></th>\n",
       "      <th>subject</th>\n",
       "      <th>label</th>\n",
       "      <th>title</th>\n",
       "      <th>text</th>\n",
       "      <th>date</th>\n",
       "    </tr>\n",
       "  </thead>\n",
       "  <tbody>\n",
       "    <tr>\n",
       "      <th>0</th>\n",
       "      <td>Government News</td>\n",
       "      <td>not_news</td>\n",
       "      <td>1570</td>\n",
       "      <td>1570</td>\n",
       "      <td>1570</td>\n",
       "    </tr>\n",
       "    <tr>\n",
       "      <th>1</th>\n",
       "      <td>Middle-east</td>\n",
       "      <td>not_news</td>\n",
       "      <td>778</td>\n",
       "      <td>778</td>\n",
       "      <td>778</td>\n",
       "    </tr>\n",
       "    <tr>\n",
       "      <th>2</th>\n",
       "      <td>News</td>\n",
       "      <td>not_news</td>\n",
       "      <td>9050</td>\n",
       "      <td>9050</td>\n",
       "      <td>9050</td>\n",
       "    </tr>\n",
       "    <tr>\n",
       "      <th>3</th>\n",
       "      <td>US_News</td>\n",
       "      <td>not_news</td>\n",
       "      <td>783</td>\n",
       "      <td>783</td>\n",
       "      <td>783</td>\n",
       "    </tr>\n",
       "    <tr>\n",
       "      <th>4</th>\n",
       "      <td>left-news</td>\n",
       "      <td>not_news</td>\n",
       "      <td>4459</td>\n",
       "      <td>4459</td>\n",
       "      <td>4459</td>\n",
       "    </tr>\n",
       "    <tr>\n",
       "      <th>5</th>\n",
       "      <td>politics</td>\n",
       "      <td>not_news</td>\n",
       "      <td>6841</td>\n",
       "      <td>6841</td>\n",
       "      <td>6841</td>\n",
       "    </tr>\n",
       "    <tr>\n",
       "      <th>6</th>\n",
       "      <td>politicsNews</td>\n",
       "      <td>news</td>\n",
       "      <td>11272</td>\n",
       "      <td>11272</td>\n",
       "      <td>11272</td>\n",
       "    </tr>\n",
       "    <tr>\n",
       "      <th>7</th>\n",
       "      <td>worldnews</td>\n",
       "      <td>news</td>\n",
       "      <td>10145</td>\n",
       "      <td>10145</td>\n",
       "      <td>10145</td>\n",
       "    </tr>\n",
       "  </tbody>\n",
       "</table>\n",
       "</div>"
      ],
      "text/plain": [
       "           subject     label  title   text   date\n",
       "0  Government News  not_news   1570   1570   1570\n",
       "1      Middle-east  not_news    778    778    778\n",
       "2             News  not_news   9050   9050   9050\n",
       "3          US_News  not_news    783    783    783\n",
       "4        left-news  not_news   4459   4459   4459\n",
       "5         politics  not_news   6841   6841   6841\n",
       "6     politicsNews      news  11272  11272  11272\n",
       "7        worldnews      news  10145  10145  10145"
      ]
     },
     "execution_count": 7,
     "metadata": {},
     "output_type": "execute_result"
    }
   ],
   "source": [
    "all_news.groupby([\"subject\", \"label\"]).count().reset_index()"
   ]
  },
  {
   "cell_type": "code",
   "execution_count": 8,
   "metadata": {
    "scrolled": false
   },
   "outputs": [
    {
     "data": {
      "text/plain": [
       "<matplotlib.axes._subplots.AxesSubplot at 0x13f1165efa0>"
      ]
     },
     "execution_count": 8,
     "metadata": {},
     "output_type": "execute_result"
    },
    {
     "data": {
      "image/png": "[encoded data removed]",
      "text/plain": [
       "<Figure size 1080x576 with 1 Axes>"
      ]
     },
     "metadata": {
      "needs_background": "light"
     },
     "output_type": "display_data"
    }
   ],
   "source": [
    "plt.figure(figsize=(15,8))\n",
    "sns.barplot(\n",
    "    data=all_news.groupby([\"subject\", \"label\"]).count().reset_index(),\n",
    "    x=\"subject\",\n",
    "    y=\"title\",\n",
    "    hue=\"label\"\n",
    ")"
   ]
  },
  {
   "cell_type": "code",
   "execution_count": 9,
   "metadata": {},
   "outputs": [],
   "source": [
    "del all_news[\"subject\"]"
   ]
  },
  {
   "cell_type": "code",
   "execution_count": 10,
   "metadata": {},
   "outputs": [],
   "source": [
    "all_news = all_news[~all_news[\"date\"].str.contains(\"https\")]"
   ]
  },
  {
   "cell_type": "code",
   "execution_count": 11,
   "metadata": {},
   "outputs": [],
   "source": [
    "date_regexp = \"JAN|FEB|MAR|APR|MAY|JUN|JUL|AUG|SEP|OCT|NOV|DEC\""
   ]
  },
  {
   "cell_type": "code",
   "execution_count": 12,
   "metadata": {},
   "outputs": [],
   "source": [
    "all_news = all_news[all_news[\"date\"].str.contains(date_regexp, case=False)]"
   ]
  },
  {
   "cell_type": "code",
   "execution_count": 13,
   "metadata": {},
   "outputs": [],
   "source": [
    "all_news[\"date\"] = pd.to_datetime(all_news[\"date\"], infer_datetime_format=True)"
   ]
  },
  {
   "cell_type": "code",
   "execution_count": 14,
   "metadata": {},
   "outputs": [],
   "source": [
    "all_news[\"fulltext\"] = all_news[\"title\"] + \" \" + all_news[\"text\"]"
   ]
  },
  {
   "cell_type": "code",
   "execution_count": 15,
   "metadata": {
    "scrolled": true
   },
   "outputs": [
    {
     "data": {
      "text/html": [
       "<div>\n",
       "<style scoped>\n",
       "    .dataframe tbody tr th:only-of-type {\n",
       "        vertical-align: middle;\n",
       "    }\n",
       "\n",
       "    .dataframe tbody tr th {\n",
       "        vertical-align: top;\n",
       "    }\n",
       "\n",
       "    .dataframe thead th {\n",
       "        text-align: right;\n",
       "    }\n",
       "</style>\n",
       "<table border=\"1\" class=\"dataframe\">\n",
       "  <thead>\n",
       "    <tr style=\"text-align: right;\">\n",
       "      <th></th>\n",
       "      <th>title</th>\n",
       "      <th>text</th>\n",
       "      <th>date</th>\n",
       "      <th>label</th>\n",
       "      <th>fulltext</th>\n",
       "    </tr>\n",
       "  </thead>\n",
       "  <tbody>\n",
       "    <tr>\n",
       "      <th>0</th>\n",
       "      <td>As U.S. budget fight looms, Republicans flip t...</td>\n",
       "      <td>WASHINGTON (Reuters) - The head of a conservat...</td>\n",
       "      <td>2017-12-31</td>\n",
       "      <td>news</td>\n",
       "      <td>As U.S. budget fight looms, Republicans flip t...</td>\n",
       "    </tr>\n",
       "    <tr>\n",
       "      <th>1</th>\n",
       "      <td>U.S. military to accept transgender recruits o...</td>\n",
       "      <td>WASHINGTON (Reuters) - Transgender people will...</td>\n",
       "      <td>2017-12-29</td>\n",
       "      <td>news</td>\n",
       "      <td>U.S. military to accept transgender recruits o...</td>\n",
       "    </tr>\n",
       "    <tr>\n",
       "      <th>2</th>\n",
       "      <td>Senior U.S. Republican senator: 'Let Mr. Muell...</td>\n",
       "      <td>WASHINGTON (Reuters) - The special counsel inv...</td>\n",
       "      <td>2017-12-31</td>\n",
       "      <td>news</td>\n",
       "      <td>Senior U.S. Republican senator: 'Let Mr. Muell...</td>\n",
       "    </tr>\n",
       "    <tr>\n",
       "      <th>3</th>\n",
       "      <td>FBI Russia probe helped by Australian diplomat...</td>\n",
       "      <td>WASHINGTON (Reuters) - Trump campaign adviser ...</td>\n",
       "      <td>2017-12-30</td>\n",
       "      <td>news</td>\n",
       "      <td>FBI Russia probe helped by Australian diplomat...</td>\n",
       "    </tr>\n",
       "    <tr>\n",
       "      <th>4</th>\n",
       "      <td>Trump wants Postal Service to charge 'much mor...</td>\n",
       "      <td>SEATTLE/WASHINGTON (Reuters) - President Donal...</td>\n",
       "      <td>2017-12-29</td>\n",
       "      <td>news</td>\n",
       "      <td>Trump wants Postal Service to charge 'much mor...</td>\n",
       "    </tr>\n",
       "  </tbody>\n",
       "</table>\n",
       "</div>"
      ],
      "text/plain": [
       "                                               title  \\\n",
       "0  As U.S. budget fight looms, Republicans flip t...   \n",
       "1  U.S. military to accept transgender recruits o...   \n",
       "2  Senior U.S. Republican senator: 'Let Mr. Muell...   \n",
       "3  FBI Russia probe helped by Australian diplomat...   \n",
       "4  Trump wants Postal Service to charge 'much mor...   \n",
       "\n",
       "                                                text       date label  \\\n",
       "0  WASHINGTON (Reuters) - The head of a conservat... 2017-12-31  news   \n",
       "1  WASHINGTON (Reuters) - Transgender people will... 2017-12-29  news   \n",
       "2  WASHINGTON (Reuters) - The special counsel inv... 2017-12-31  news   \n",
       "3  WASHINGTON (Reuters) - Trump campaign adviser ... 2017-12-30  news   \n",
       "4  SEATTLE/WASHINGTON (Reuters) - President Donal... 2017-12-29  news   \n",
       "\n",
       "                                            fulltext  \n",
       "0  As U.S. budget fight looms, Republicans flip t...  \n",
       "1  U.S. military to accept transgender recruits o...  \n",
       "2  Senior U.S. Republican senator: 'Let Mr. Muell...  \n",
       "3  FBI Russia probe helped by Australian diplomat...  \n",
       "4  Trump wants Postal Service to charge 'much mor...  "
      ]
     },
     "execution_count": 15,
     "metadata": {},
     "output_type": "execute_result"
    }
   ],
   "source": [
    "all_news.head()"
   ]
  },
  {
   "cell_type": "code",
   "execution_count": 16,
   "metadata": {},
   "outputs": [
    {
     "data": {
      "text/html": [
       "<div>\n",
       "<style scoped>\n",
       "    .dataframe tbody tr th:only-of-type {\n",
       "        vertical-align: middle;\n",
       "    }\n",
       "\n",
       "    .dataframe tbody tr th {\n",
       "        vertical-align: top;\n",
       "    }\n",
       "\n",
       "    .dataframe thead th {\n",
       "        text-align: right;\n",
       "    }\n",
       "</style>\n",
       "<table border=\"1\" class=\"dataframe\">\n",
       "  <thead>\n",
       "    <tr style=\"text-align: right;\">\n",
       "      <th></th>\n",
       "      <th>date</th>\n",
       "      <th>label</th>\n",
       "      <th>title</th>\n",
       "      <th>text</th>\n",
       "      <th>fulltext</th>\n",
       "    </tr>\n",
       "  </thead>\n",
       "  <tbody>\n",
       "    <tr>\n",
       "      <th>0</th>\n",
       "      <td>2015-03-31</td>\n",
       "      <td>not_news</td>\n",
       "      <td>8</td>\n",
       "      <td>8</td>\n",
       "      <td>8</td>\n",
       "    </tr>\n",
       "    <tr>\n",
       "      <th>1</th>\n",
       "      <td>2015-04-01</td>\n",
       "      <td>not_news</td>\n",
       "      <td>2</td>\n",
       "      <td>2</td>\n",
       "      <td>2</td>\n",
       "    </tr>\n",
       "    <tr>\n",
       "      <th>2</th>\n",
       "      <td>2015-04-02</td>\n",
       "      <td>not_news</td>\n",
       "      <td>1</td>\n",
       "      <td>1</td>\n",
       "      <td>1</td>\n",
       "    </tr>\n",
       "    <tr>\n",
       "      <th>3</th>\n",
       "      <td>2015-04-04</td>\n",
       "      <td>not_news</td>\n",
       "      <td>5</td>\n",
       "      <td>5</td>\n",
       "      <td>5</td>\n",
       "    </tr>\n",
       "    <tr>\n",
       "      <th>4</th>\n",
       "      <td>2015-04-05</td>\n",
       "      <td>not_news</td>\n",
       "      <td>13</td>\n",
       "      <td>13</td>\n",
       "      <td>13</td>\n",
       "    </tr>\n",
       "    <tr>\n",
       "      <th>...</th>\n",
       "      <td>...</td>\n",
       "      <td>...</td>\n",
       "      <td>...</td>\n",
       "      <td>...</td>\n",
       "      <td>...</td>\n",
       "    </tr>\n",
       "    <tr>\n",
       "      <th>1721</th>\n",
       "      <td>2018-02-15</td>\n",
       "      <td>not_news</td>\n",
       "      <td>9</td>\n",
       "      <td>9</td>\n",
       "      <td>9</td>\n",
       "    </tr>\n",
       "    <tr>\n",
       "      <th>1722</th>\n",
       "      <td>2018-02-16</td>\n",
       "      <td>not_news</td>\n",
       "      <td>8</td>\n",
       "      <td>8</td>\n",
       "      <td>8</td>\n",
       "    </tr>\n",
       "    <tr>\n",
       "      <th>1723</th>\n",
       "      <td>2018-02-17</td>\n",
       "      <td>not_news</td>\n",
       "      <td>7</td>\n",
       "      <td>7</td>\n",
       "      <td>7</td>\n",
       "    </tr>\n",
       "    <tr>\n",
       "      <th>1724</th>\n",
       "      <td>2018-02-18</td>\n",
       "      <td>not_news</td>\n",
       "      <td>7</td>\n",
       "      <td>7</td>\n",
       "      <td>7</td>\n",
       "    </tr>\n",
       "    <tr>\n",
       "      <th>1725</th>\n",
       "      <td>2018-02-19</td>\n",
       "      <td>not_news</td>\n",
       "      <td>3</td>\n",
       "      <td>3</td>\n",
       "      <td>3</td>\n",
       "    </tr>\n",
       "  </tbody>\n",
       "</table>\n",
       "<p>1726 rows × 5 columns</p>\n",
       "</div>"
      ],
      "text/plain": [
       "           date     label  title  text  fulltext\n",
       "0    2015-03-31  not_news      8     8         8\n",
       "1    2015-04-01  not_news      2     2         2\n",
       "2    2015-04-02  not_news      1     1         1\n",
       "3    2015-04-04  not_news      5     5         5\n",
       "4    2015-04-05  not_news     13    13        13\n",
       "...         ...       ...    ...   ...       ...\n",
       "1721 2018-02-15  not_news      9     9         9\n",
       "1722 2018-02-16  not_news      8     8         8\n",
       "1723 2018-02-17  not_news      7     7         7\n",
       "1724 2018-02-18  not_news      7     7         7\n",
       "1725 2018-02-19  not_news      3     3         3\n",
       "\n",
       "[1726 rows x 5 columns]"
      ]
     },
     "execution_count": 16,
     "metadata": {},
     "output_type": "execute_result"
    }
   ],
   "source": [
    "all_news.groupby([\"date\", \"label\"]).count().reset_index()"
   ]
  },
  {
   "cell_type": "code",
   "execution_count": 17,
   "metadata": {},
   "outputs": [
    {
     "data": {
      "text/plain": [
       "<matplotlib.axes._subplots.AxesSubplot at 0x13f15378f70>"
      ]
     },
     "execution_count": 17,
     "metadata": {},
     "output_type": "execute_result"
    },
    {
     "data": {
      "image/png": "[encoded data removed]",
      "text/plain": [
       "<Figure size 1296x720 with 1 Axes>"
      ]
     },
     "metadata": {
      "needs_background": "light"
     },
     "output_type": "display_data"
    }
   ],
   "source": [
    "plt.figure(figsize=(18,10))\n",
    "sns.lineplot(\n",
    "    data=all_news.groupby([\"date\", \"label\"]).count().reset_index(),\n",
    "    x=\"date\",\n",
    "    y=\"text\",\n",
    "    hue=\"label\"\n",
    ")"
   ]
  },
  {
   "cell_type": "code",
   "execution_count": 18,
   "metadata": {},
   "outputs": [],
   "source": [
    "del all_news[\"date\"]"
   ]
  },
  {
   "cell_type": "code",
   "execution_count": 19,
   "metadata": {},
   "outputs": [],
   "source": [
    "all_news['text_length'] = all_news['fulltext'].apply(len)"
   ]
  },
  {
   "cell_type": "code",
   "execution_count": 20,
   "metadata": {},
   "outputs": [
    {
     "data": {
      "image/png": "[encoded data removed]",
      "text/plain": [
       "<Figure size 1080x576 with 1 Axes>"
      ]
     },
     "metadata": {
      "needs_background": "light"
     },
     "output_type": "display_data"
    }
   ],
   "source": [
    "plt.figure(figsize=(15,8))\n",
    "ax = sns.boxplot(\n",
    "    data=all_news,\n",
    "    x=\"label\",\n",
    "    y=\"text_length\",\n",
    "    orient=\"v\",\n",
    "    color=\"purple\",\n",
    ")"
   ]
  },
  {
   "cell_type": "code",
   "execution_count": 21,
   "metadata": {},
   "outputs": [],
   "source": [
    "from string import punctuation\n",
    "from nltk.corpus import stopwords\n",
    "import re"
   ]
  },
  {
   "cell_type": "code",
   "execution_count": 22,
   "metadata": {},
   "outputs": [],
   "source": [
    "STOPWORDS = tuple(stopwords.words('english'))"
   ]
  },
  {
   "cell_type": "code",
   "execution_count": 23,
   "metadata": {},
   "outputs": [],
   "source": [
    "non_punc_regex = r\"[a-zA-Z0-9\\s]\""
   ]
  },
  {
   "cell_type": "code",
   "execution_count": 24,
   "metadata": {},
   "outputs": [],
   "source": [
    "def clean_text(\n",
    "    text\n",
    "):\n",
    "    stripped = text.strip()\n",
    "    remove_punc = ''.join([char for char in stripped if re.match(non_punc_regex, char)])\n",
    "    tokenised = [w for w in re.split(\"\\s+\", remove_punc) if w.lower() not in STOPWORDS]\n",
    "    return tokenised"
   ]
  },
  {
   "cell_type": "code",
   "execution_count": 25,
   "metadata": {},
   "outputs": [
    {
     "data": {
      "text/plain": [
       "['Jones',\n",
       " 'certified',\n",
       " 'US',\n",
       " 'Senate',\n",
       " 'winner',\n",
       " 'despite',\n",
       " 'Moore',\n",
       " 'challenge',\n",
       " 'Reuters',\n",
       " 'Alabama',\n",
       " 'officials',\n",
       " 'Thursday',\n",
       " 'certified',\n",
       " 'Democrat',\n",
       " 'Doug',\n",
       " 'Jones',\n",
       " 'winner',\n",
       " 'states',\n",
       " 'US',\n",
       " 'Senate',\n",
       " 'race',\n",
       " 'state',\n",
       " 'judge',\n",
       " 'denied',\n",
       " 'challenge',\n",
       " 'Republican',\n",
       " 'Roy',\n",
       " 'Moore',\n",
       " 'whose',\n",
       " 'campaign',\n",
       " 'derailed',\n",
       " 'accusations',\n",
       " 'sexual',\n",
       " 'misconduct',\n",
       " 'teenage',\n",
       " 'girls',\n",
       " 'Jones',\n",
       " 'vacant',\n",
       " 'seat',\n",
       " '22000',\n",
       " 'votes',\n",
       " '16',\n",
       " 'percentage',\n",
       " 'points',\n",
       " 'election',\n",
       " 'officials',\n",
       " 'said',\n",
       " 'made',\n",
       " 'first',\n",
       " 'Democrat',\n",
       " 'quarter',\n",
       " 'century',\n",
       " 'win',\n",
       " 'Senate',\n",
       " 'seat',\n",
       " 'Alabama',\n",
       " 'seat',\n",
       " 'previously',\n",
       " 'held',\n",
       " 'Republican',\n",
       " 'Jeff',\n",
       " 'Sessions',\n",
       " 'tapped',\n",
       " 'US',\n",
       " 'President',\n",
       " 'Donald',\n",
       " 'Trump',\n",
       " 'attorney',\n",
       " 'general',\n",
       " 'state',\n",
       " 'canvassing',\n",
       " 'board',\n",
       " 'composed',\n",
       " 'Alabama',\n",
       " 'Secretary',\n",
       " 'State',\n",
       " 'John',\n",
       " 'Merrill',\n",
       " 'Governor',\n",
       " 'Kay',\n",
       " 'Ivey',\n",
       " 'Attorney',\n",
       " 'General',\n",
       " 'Steve',\n",
       " 'Marshall',\n",
       " 'certified',\n",
       " 'election',\n",
       " 'results',\n",
       " 'Seating',\n",
       " 'Jones',\n",
       " 'narrow',\n",
       " 'Republican',\n",
       " 'majority',\n",
       " 'Senate',\n",
       " '51',\n",
       " '100',\n",
       " 'seats',\n",
       " 'statement',\n",
       " 'Jones',\n",
       " 'called',\n",
       " 'victory',\n",
       " 'new',\n",
       " 'chapter',\n",
       " 'pledged',\n",
       " 'work',\n",
       " 'parties',\n",
       " 'Moore',\n",
       " 'declined',\n",
       " 'concede',\n",
       " 'defeat',\n",
       " 'even',\n",
       " 'Trump',\n",
       " 'urged',\n",
       " 'stood',\n",
       " 'claims',\n",
       " 'fraudulent',\n",
       " 'election',\n",
       " 'statement',\n",
       " 'released',\n",
       " 'certification',\n",
       " 'said',\n",
       " 'regrets',\n",
       " 'media',\n",
       " 'outlets',\n",
       " 'reported',\n",
       " 'Alabama',\n",
       " 'judge',\n",
       " 'denied',\n",
       " 'Moores',\n",
       " 'request',\n",
       " 'block',\n",
       " 'certification',\n",
       " 'results',\n",
       " 'Dec',\n",
       " '12',\n",
       " 'election',\n",
       " 'decision',\n",
       " 'shortly',\n",
       " 'canvassing',\n",
       " 'board',\n",
       " 'met',\n",
       " 'Moores',\n",
       " 'challenge',\n",
       " 'alleged',\n",
       " 'potential',\n",
       " 'voter',\n",
       " 'fraud',\n",
       " 'denied',\n",
       " 'chance',\n",
       " 'victory',\n",
       " 'filing',\n",
       " 'Wednesday',\n",
       " 'Montgomery',\n",
       " 'Circuit',\n",
       " 'Court',\n",
       " 'sought',\n",
       " 'halt',\n",
       " 'meeting',\n",
       " 'scheduled',\n",
       " 'ratify',\n",
       " 'Jones',\n",
       " 'win',\n",
       " 'Thursday',\n",
       " 'Moore',\n",
       " 'could',\n",
       " 'ask',\n",
       " 'recount',\n",
       " 'addition',\n",
       " 'possible',\n",
       " 'court',\n",
       " 'challenges',\n",
       " 'Merrill',\n",
       " 'said',\n",
       " 'interview',\n",
       " 'Fox',\n",
       " 'News',\n",
       " 'Channel',\n",
       " 'would',\n",
       " 'complete',\n",
       " 'paperwork',\n",
       " 'within',\n",
       " 'timed',\n",
       " 'period',\n",
       " 'show',\n",
       " 'money',\n",
       " 'challenge',\n",
       " 'Merrill',\n",
       " 'said',\n",
       " 'Weve',\n",
       " 'notified',\n",
       " 'yet',\n",
       " 'intention',\n",
       " 'Merrill',\n",
       " 'said',\n",
       " 'Regarding',\n",
       " 'claim',\n",
       " 'voter',\n",
       " 'fraud',\n",
       " 'Merrill',\n",
       " 'told',\n",
       " 'CNN',\n",
       " '100',\n",
       " 'cases',\n",
       " 'reported',\n",
       " 'Weve',\n",
       " 'adjudicated',\n",
       " '60',\n",
       " 'continue',\n",
       " 'said',\n",
       " 'Republican',\n",
       " 'lawmakers',\n",
       " 'Washington',\n",
       " 'distanced',\n",
       " 'Moore',\n",
       " 'called',\n",
       " 'drop',\n",
       " 'race',\n",
       " 'several',\n",
       " 'women',\n",
       " 'accused',\n",
       " 'sexual',\n",
       " 'assault',\n",
       " 'misconduct',\n",
       " 'dating',\n",
       " 'back',\n",
       " 'teenagers',\n",
       " 'early',\n",
       " '30s',\n",
       " 'Moore',\n",
       " 'denied',\n",
       " 'wrongdoing',\n",
       " 'Reuters',\n",
       " 'able',\n",
       " 'independently',\n",
       " 'verify',\n",
       " 'allegations']"
      ]
     },
     "execution_count": 25,
     "metadata": {},
     "output_type": "execute_result"
    }
   ],
   "source": [
    "clean_text(all_news['fulltext'].iloc[10])"
   ]
  },
  {
   "cell_type": "code",
   "execution_count": 26,
   "metadata": {},
   "outputs": [],
   "source": [
    "# all_news['tokenised'] = all_news['fulltext'].apply(clean_text)"
   ]
  },
  {
   "cell_type": "code",
   "execution_count": 27,
   "metadata": {},
   "outputs": [],
   "source": [
    "# all_news['tokenised'].head()"
   ]
  },
  {
   "cell_type": "code",
   "execution_count": 28,
   "metadata": {},
   "outputs": [],
   "source": [
    "from sklearn.feature_extraction.text import CountVectorizer, TfidfTransformer\n",
    "from sklearn.naive_bayes import MultinomialNB\n",
    "from sklearn.model_selection import train_test_split"
   ]
  },
  {
   "cell_type": "code",
   "execution_count": 29,
   "metadata": {},
   "outputs": [],
   "source": [
    "# cv = CountVectorizer(analyzer=clean_text).fit(all_news[\"fulltext\"])"
   ]
  },
  {
   "cell_type": "code",
   "execution_count": 30,
   "metadata": {},
   "outputs": [],
   "source": [
    "# [(k, v) for k, v in cv.vocabulary_.items()][:5]"
   ]
  },
  {
   "cell_type": "code",
   "execution_count": 31,
   "metadata": {},
   "outputs": [],
   "source": [
    "# test_msg = all_news['fulltext'].iloc[6000]\n",
    "# test_msg"
   ]
  },
  {
   "cell_type": "code",
   "execution_count": 32,
   "metadata": {},
   "outputs": [],
   "source": [
    "# test_msg_matrix = cv.transform([test_msg])\n",
    "# print(test_msg_matrix)"
   ]
  },
  {
   "cell_type": "code",
   "execution_count": 33,
   "metadata": {},
   "outputs": [],
   "source": [
    "# test_msg_matrix.shape"
   ]
  },
  {
   "cell_type": "code",
   "execution_count": 34,
   "metadata": {},
   "outputs": [],
   "source": [
    "# cv.get_feature_names()[78124]"
   ]
  },
  {
   "cell_type": "code",
   "execution_count": 35,
   "metadata": {},
   "outputs": [],
   "source": [
    "# bag_of_words = cv.transform(all_news['fulltext'])"
   ]
  },
  {
   "cell_type": "code",
   "execution_count": 36,
   "metadata": {},
   "outputs": [],
   "source": [
    "# bag_of_words.shape"
   ]
  },
  {
   "cell_type": "code",
   "execution_count": 37,
   "metadata": {},
   "outputs": [],
   "source": [
    "# f\"Sparcity: {100 * bag_of_words.nnz / (bag_of_words.shape[0] * bag_of_words.shape[1])}\""
   ]
  },
  {
   "cell_type": "code",
   "execution_count": 38,
   "metadata": {},
   "outputs": [],
   "source": [
    "# tfidf = TfidfTransformer().fit(bag_of_words)"
   ]
  },
  {
   "cell_type": "code",
   "execution_count": 39,
   "metadata": {},
   "outputs": [],
   "source": [
    "# test_tdidf = tfidf.transform(bag_of_words[6000])"
   ]
  },
  {
   "cell_type": "code",
   "execution_count": 40,
   "metadata": {},
   "outputs": [],
   "source": [
    "# print(test_tdidf)"
   ]
  },
  {
   "cell_type": "code",
   "execution_count": 41,
   "metadata": {},
   "outputs": [],
   "source": [
    "# tfidf_text = tfidf.transform(bag_of_words)"
   ]
  },
  {
   "cell_type": "code",
   "execution_count": 42,
   "metadata": {},
   "outputs": [],
   "source": [
    "# tfidf_text.shape"
   ]
  },
  {
   "cell_type": "code",
   "execution_count": 43,
   "metadata": {},
   "outputs": [],
   "source": [
    "# classifier = MultinomialNB().fit(tfidf_text, all_news[\"label\"])"
   ]
  },
  {
   "cell_type": "code",
   "execution_count": 44,
   "metadata": {},
   "outputs": [],
   "source": [
    "# all_news.iloc[6000]"
   ]
  },
  {
   "cell_type": "code",
   "execution_count": 45,
   "metadata": {},
   "outputs": [],
   "source": [
    "# classifier.predict(test_tdidf)"
   ]
  },
  {
   "cell_type": "code",
   "execution_count": 46,
   "metadata": {},
   "outputs": [],
   "source": [
    "from sklearn.pipeline import Pipeline"
   ]
  },
  {
   "cell_type": "code",
   "execution_count": 47,
   "metadata": {},
   "outputs": [],
   "source": [
    "news_classifier_pipeline = Pipeline([\n",
    "    (\"matrix\", CountVectorizer(analyzer=clean_text)),\n",
    "    (\"tfidf\", TfidfTransformer()),\n",
    "    (\"classify\", MultinomialNB()),\n",
    "])"
   ]
  },
  {
   "cell_type": "code",
   "execution_count": 48,
   "metadata": {},
   "outputs": [],
   "source": [
    "msg_train, msg_test, label_train, label_test = train_test_split(\n",
    "    all_news[\"fulltext\"], all_news[\"label\"], test_size=0.33, random_state=42\n",
    ")"
   ]
  },
  {
   "cell_type": "code",
   "execution_count": 49,
   "metadata": {},
   "outputs": [
    {
     "data": {
      "text/plain": [
       "21999    CIA Operative Admits Deep State Globalist Cont...\n",
       "1065     U.S. condemns Russia veto of probe into Syria ...\n",
       "2664     U.S., China disagreed on how to reduce U.S. tr...\n",
       "22999    Ben Stein Calls Out 9th Circuit Court: Committ...\n",
       "1206      CNN Fires Reza Aslan For Describing Trump As ...\n",
       "                               ...                        \n",
       "11284    Nigeria says U.S. agrees delayed $593 million ...\n",
       "23325    Boiler Room #61 – Hello From the Gutter Tune i...\n",
       "16746    HOW 125,000 ILLEGAL KIDS Have Been Able To Avo...\n",
       "860      Republican tax plan would deal financial hit t...\n",
       "15795    U.N. refugee commissioner says Australia must ...\n",
       "Name: fulltext, Length: 30074, dtype: object"
      ]
     },
     "execution_count": 49,
     "metadata": {},
     "output_type": "execute_result"
    }
   ],
   "source": [
    "msg_train"
   ]
  },
  {
   "cell_type": "code",
   "execution_count": 50,
   "metadata": {},
   "outputs": [
    {
     "data": {
      "text/plain": [
       "21999    not_news\n",
       "1065         news\n",
       "2664         news\n",
       "22999    not_news\n",
       "1206     not_news\n",
       "           ...   \n",
       "11284        news\n",
       "23325    not_news\n",
       "16746    not_news\n",
       "860          news\n",
       "15795        news\n",
       "Name: label, Length: 30074, dtype: object"
      ]
     },
     "execution_count": 50,
     "metadata": {},
     "output_type": "execute_result"
    }
   ],
   "source": [
    "label_train"
   ]
  },
  {
   "cell_type": "code",
   "execution_count": 51,
   "metadata": {},
   "outputs": [
    {
     "data": {
      "text/plain": [
       "Pipeline(steps=[('matrix',\n",
       "                 CountVectorizer(analyzer=<function clean_text at 0x0000013F27332160>)),\n",
       "                ('tfidf', TfidfTransformer()), ('classify', MultinomialNB())])"
      ]
     },
     "execution_count": 51,
     "metadata": {},
     "output_type": "execute_result"
    }
   ],
   "source": [
    "news_classifier_pipeline.fit(msg_train, label_train)"
   ]
  },
  {
   "cell_type": "code",
   "execution_count": 52,
   "metadata": {},
   "outputs": [],
   "source": [
    "predictions = news_classifier_pipeline.predict(msg_test)"
   ]
  },
  {
   "cell_type": "code",
   "execution_count": 53,
   "metadata": {},
   "outputs": [
    {
     "data": {
      "text/plain": [
       "array(['news', 'not_news', 'news', ..., 'news', 'not_news', 'not_news'],\n",
       "      dtype='<U8')"
      ]
     },
     "execution_count": 53,
     "metadata": {},
     "output_type": "execute_result"
    }
   ],
   "source": [
    "predictions"
   ]
  },
  {
   "cell_type": "code",
   "execution_count": 54,
   "metadata": {},
   "outputs": [],
   "source": [
    "from sklearn.metrics import classification_report"
   ]
  },
  {
   "cell_type": "code",
   "execution_count": 55,
   "metadata": {
    "scrolled": true
   },
   "outputs": [
    {
     "name": "stdout",
     "output_type": "stream",
     "text": [
      "              precision    recall  f1-score   support\n",
      "\n",
      "        news       0.95      0.96      0.96      7086\n",
      "    not_news       0.97      0.95      0.96      7728\n",
      "\n",
      "    accuracy                           0.96     14814\n",
      "   macro avg       0.96      0.96      0.96     14814\n",
      "weighted avg       0.96      0.96      0.96     14814\n",
      "\n"
     ]
    }
   ],
   "source": [
    "print(classification_report(label_test, predictions))"
   ]
  },
  {
   "cell_type": "code",
   "execution_count": 56,
   "metadata": {},
   "outputs": [],
   "source": [
    "test_article = \"\"\"\n",
    "New organ in the human throat may have been discovered by Dutch scientists\n",
    "(CNN) - It's hard to imagine there is a part of the human body that's gone unnoticed by doctors after centuries of medical research.\n",
    "\n",
    "But that's exactly what a group of scientists from the Netherlands believe. They said they have discovered a pair of previously overlooked glands that are hidden away in our skulls where the nasal cavity and the throat meet.\n",
    "\n",
    "The medical researchers first came across the body part, which they propose naming tubarial glands, during a scan designed to look for tumorous growths. The scientists then looked at scans of the head and neck of a further 100 individuals they were treating for prostrate cancer and dissected two cadavers -- one male and one female. They all had a set.\n",
    "\n",
    "The discovery was \"thrilling\" but the authors were \"a bit skeptical\" at first, said the study's lead author Matthijs H. Valstar, a surgeon in the department of head and neck oncology and surgery at The Netherlands Cancer Institute.\n",
    "\n",
    "\"We thought it wasn't possible to discover this in 2020,\" Valstar said. \"It's important it's replicated and it should be done with different series of patients. It's important to have confirmation of new medical findings.\"\n",
    "\n",
    "The glands cannot be seen with conventional methods of medical imaging like ultrasound, CT scans (computerized topography) or MRI (magnetic resonance imaging), the study authors said.\n",
    "\n",
    "The \"unknown entity\" was only identified when the doctors were using an advanced and new type of scan called PSMA PET/CT that has been used to detect the spread of prostate cancer. PSMA PET is shorthand for prostate-specific membrane antigen imaging using positron emission tomography.\n",
    "\n",
    "Salivary glands show up clearly on this highly sensitive kind of imaging.\n",
    "\n",
    "\"People have three sets of large salivary glands, but not there,\" said study author Wouter Vogel, a radiation oncologist at The Netherlands Cancer Institute, in a news statement in May. \"As far as we knew, the only salivary or mucous glands in the nasopharynx are microscopically small, and up to 1000 are evenly spread out throughout the mucosa. So, imagine our surprise when we found these.\"\n",
    "\n",
    "Many great scientific discoveries \"come as a surprise — an incidental finding,\" said Joy Reidenberg, a professor of anatomy at the Icahn School of Medicine at Mount Sinai in New York City, who wasn't involved in the study.\n",
    "\n",
    "\"Luckily, these researchers were tuned into the data, and were anatomically savvy enough to note the unusual brightness in a region that was not thought to contain any salivary glands,\" Reidenberg added via email. \"As the famous (late French biologist) Louis Pasteur once said: 'Chance favors the prepared mind.'\"\n",
    "\n",
    "New organ?\n",
    "\n",
    "It was a matter of debate whether the tubarial glands were a completely new organ or could be considered part of the salivary gland organ system, the study added.\n",
    "\n",
    "\"These findings support the identification of the tubarial glands as a new anatomical and functional entity,\" said the study, which published in the journal Radiotherapy and Oncology.\n",
    "\n",
    "The glands could be newly discovered, \"but it is difficult to exclude that these might represent groups of minor salivary glands,\" said Dr. Valerie Fitzhugh, the interim chair of pathology at Rutgers New Jersey Medical School and Rutgers Robert Wood Johnson Medical School. Fitzhugh wasn't involved in the study.\n",
    "\n",
    "Because the study concentrated on a small number of patients who were mostly male and used specific rather than standard tests, she added, examination of more women and healthier patients would allow for better data.\n",
    "\n",
    "Overall, there is \"still much to learn about the human body,\" Fitzhugh said, \"and technology is allowing us to make these discoveries. This might be the first of some exciting discoveries within the body.\"\n",
    "\n",
    "No matter how the glands are described, the authors said their discovery had clinical implications, especially for patients with head and neck cancer, including tumors in the throat or tongue. Radiotherapy can damage salivary glands, which can lead to dry mouth and trouble swallowing, speaking and eating.\n",
    "\n",
    "\"For most patients, it should technically be possible to avoid delivering radiation to this newly discovered location of the salivary gland system in the same way we try to spare known glands,\" Vogel said.\n",
    "\n",
    "\"Our next step is to find out how we can best spare these new glands and in which patients. If we can do this, patients may experience less side effects which will benefit their overall quality of life after treatment.\"\n",
    "\"\"\""
   ]
  },
  {
   "cell_type": "code",
   "execution_count": 57,
   "metadata": {},
   "outputs": [],
   "source": [
    "test_article2 = \"\"\"\n",
    "Man Bear Pig is real, I'm super cereal.\n",
    "\n",
    "He has the head of a man, and the body of a bear pig. Or the body of a bear man and the head of a pig. \n",
    "Look, it's not important. \n",
    "What's important is that we pull together to try and stop him as he's the biggest threat to mankind since the NAZIS.\n",
    "\"\"\""
   ]
  },
  {
   "cell_type": "code",
   "execution_count": 58,
   "metadata": {},
   "outputs": [],
   "source": [
    "test_article3 = \"\"\"\n",
    "Edward Snowden gets permanent residency in Russia - lawyer\n",
    "Moscow (CNN) - Former US National Security Agency contractor Edward Snowden has been given permanent residency in Russia, his lawyer Anatoly Kucherena told state-run news agency RIA Novosti.\n",
    "\n",
    "Snowden had requested a three-year extension of the permit this spring as it was set to expire in April 2020 but the procedure stalled because of the coronavirus pandemic, according to Kucherena.\n",
    "\n",
    "The 37-year-old is accused of espionage and theft of government property in the US for leaking troves of information on American intelligence and mass surveillance program to the media.\n",
    "\n",
    "Snowden has been living in exile in Moscow after initially traveling to Hong Kong following his 2013 public disclosure of the classified information.\n",
    "\n",
    "Russian government granted him asylum and extended the residency permit in 2017 until 2020.\n",
    "\n",
    "In 2016, US Congress released a report saying Snowden has been in contact with Russian intelligence officials since his arrival to Russia, a claim Snowden denied. In an interview in September last year, Snowden said he would be willing to return to the US if he is guaranteed a fair trial.\n",
    "\n",
    "\"One of the big topics in Europe right now is should Germany and France invite me in to get asylum,\" he said. \"And of course I would like to return to the United States. That is the ultimate goal. But if I'm going to spend the rest of my life in prison, the one bottom-line demand that we all have to agree to is that at least I get a fair trial. And that's the one thing the government has refused to guarantee because they won't provide access to what's called a public interest defense,\" Snowden told CBS co-hosts Gayle King and Tony Dokoupil on \"CBS This Morning.\"\n",
    "\n",
    "He added: \"I'm not asking for a parade. I'm not asking for a pardon. I'm not asking for a pass. What I'm asking for is a fair trial. And this is the bottom-line that any American should require.\"\n",
    "\"\"\""
   ]
  },
  {
   "cell_type": "code",
   "execution_count": 59,
   "metadata": {},
   "outputs": [],
   "source": [
    "test_article4 = \"\"\"\n",
    "Moment hero passenger steps in to pay ‘ridiculous’ Ryanair baggage fee for stressed out mum\n",
    "A HEARTWARMING video shows the moment a Ryanair passenger steps in to pay the baggage fee for a stressed out mum.\n",
    "\n",
    "The “hero” was filmed footing the £50 bill for the mum-of-three, after staff at Ibiza airport deemed her bag too big to be carried on board.\n",
    "\n",
    "A fellow passenger captured the moment on Sunday, as the travellers were attempting to board a flight to Stansted airport.\n",
    "\n",
    "As the video begins, the young man can be seen checking his phone near the boarding gate, while the frazzled mum struggles to decide what to do about the fee for the bag.\n",
    "\n",
    "As two of her children chase each other around the airport, she stands at the desk looking stressed.\n",
    "\n",
    "Seeing her distress, the stranger turns around and reassures her, saying: “It’s alright, it’s alright. Don't worry I'll pay for you.\"\n",
    "\n",
    "Do you know the kind-hearted passengers? Call The Sun Online newsdesk on 0207 782 4368 or e-mail richard.wheatstone@the-sun.co.uk\n",
    "\n",
    "He then approaches the desk and hands over his card for payment.\n",
    "\n",
    "The touching moment was posted on Twitter by a fellow passenger, who shared the video.\n",
    "\n",
    "They said: “Well done to this young hero for paying the ridiculous Ryanair baggage charges for a distressed mother travelling with three kids (who wasn’t getting any leniency from ground staff).\n",
    "\n",
    "“The flight from Ibiza to Stansted was half empty, not sure what difference a few cm would make.”\n",
    "\n",
    "The video, which has since been viewed hundred of thousands of times, has earned the gentleman heaps of praise.\n",
    "\n",
    "The passenger later added: “Great kid isn’t he? No idea who he is though, kept himself to himself and acted honourably and discreetly without a fuss.”\n",
    "\n",
    "Speaking today, the 46-year-old traveller said: \"As far as I could tell, the mother with her children had got caught out with a bag that exceeded the allowance on her ticket.\"\n",
    "\n",
    "He added: \"She was upset and rather tearful while also trying to keep an eye on her kids.\n",
    "\n",
    "\"By the time I figured out what was going on, a young man stepped up to the ground handling staff and was heard to say 'it’s okay, I’ll pay'.\n",
    "\n",
    "\"The man preferred to remain anonymous.\"\n",
    "\"\"\""
   ]
  },
  {
   "cell_type": "code",
   "execution_count": 60,
   "metadata": {},
   "outputs": [
    {
     "data": {
      "text/plain": [
       "array(['not_news', 'not_news', 'news', 'not_news'], dtype='<U8')"
      ]
     },
     "execution_count": 60,
     "metadata": {},
     "output_type": "execute_result"
    }
   ],
   "source": [
    "news_classifier_pipeline.predict([test_article, test_article2, test_article3, test_article4])"
   ]
  },
  {
   "cell_type": "code",
   "execution_count": null,
   "metadata": {},
   "outputs": [],
   "source": []
  },
  {
   "cell_type": "code",
   "execution_count": null,
   "metadata": {},
   "outputs": [],
   "source": []
  },
  {
   "cell_type": "code",
   "execution_count": null,
   "metadata": {},
   "outputs": [],
   "source": []
  }
 ],
 "metadata": {
  "kernelspec": {
   "display_name": "Python 3",
   "language": "python",
   "name": "python3"
  },
  "language_info": {
   "codemirror_mode": {
    "name": "ipython",
    "version": 3
   },
   "file_extension": ".py",
   "mimetype": "text/x-python",
   "name": "python",
   "nbconvert_exporter": "python",
   "pygments_lexer": "ipython3",
   "version": "3.8.3"
  }
 },
 "nbformat": 4,
 "nbformat_minor": 4
}
